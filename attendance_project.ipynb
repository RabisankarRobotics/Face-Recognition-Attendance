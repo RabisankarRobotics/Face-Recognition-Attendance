{
 "cells": [
  {
   "cell_type": "code",
   "execution_count": null,
   "id": "99892d0c",
   "metadata": {},
   "outputs": [],
   "source": [
    "import cv2\n",
    "import numpy as np\n",
    "import face_recognition\n",
    "import os\n",
    "import datetime\n",
    "import pandas as pd\n",
    "import json\n"
   ]
  },
  {
   "cell_type": "code",
   "execution_count": null,
   "id": "1f747999",
   "metadata": {},
   "outputs": [],
   "source": [
    "path='Images'\n",
    "images=[]\n",
    "personName=[]\n",
    "myList=os.listdir(path)\n",
    "print(myList)\n",
    "for cu_img in myList:\n",
    "    current_Img=cv2.imread(f'{path}/{cu_img}')\n",
    "    images.append(current_Img)\n",
    "    personName.append(os.path.splitext(cu_img)[0])\n",
    "print(personName)\n",
    "#print(images)"
   ]
  },
  {
   "cell_type": "code",
   "execution_count": 3,
   "id": "b118c8ce",
   "metadata": {},
   "outputs": [],
   "source": [
    "def faceEncodings(images):\n",
    "    encodeList=[]\n",
    "    for img in images:\n",
    "        img=cv2.cvtColor(img,cv2.COLOR_BGR2RGB)\n",
    "        encode=face_recognition.face_encodings(img)[0]\n",
    "        encodeList.append(encode)\n",
    "    return encodeList\n",
    "encodeListKnown=faceEncodings(images)"
   ]
  },
  {
   "cell_type": "code",
   "execution_count": 5,
   "id": "4738745f",
   "metadata": {},
   "outputs": [],
   "source": [
    "#data=pd.read_csv('attendance.csv')\n",
    "#data`\n",
    "#data.get(['Name','Date'])"
   ]
  },
  {
   "cell_type": "code",
   "execution_count": 4,
   "id": "7f4ccc2c",
   "metadata": {},
   "outputs": [],
   "source": [
    "\n",
    "def attendance(name,date):\n",
    "    with open('attendance.csv','r+') as f:\n",
    "        myDataList=f.readlines()\n",
    "        nameList=[]\n",
    "        dateList=[]\n",
    "        \n",
    "        for line in myDataList:\n",
    "            entry=line.split(',')\n",
    "            nameList.append(entry[0])\n",
    "            dateList.append(entry[1])\n",
    "            #timeList.append(entry[2])\n",
    "            \n",
    "            \n",
    "        if (date,name) not in zip(dateList,nameList):        \n",
    "            #time_now=datetime.now()\n",
    "            #tStr=time_now.strftime('%H:%M:%S')\n",
    "            \n",
    "            def time_in_range(start, end, entry_time):\n",
    "                \"\"\"Returns whether current is in the range [start, end]\"\"\"\n",
    "                return start <= entry_time <= end\n",
    "            \n",
    "            start = datetime.time(9,15, 0)\n",
    "            end = datetime.time(18, 0, 0)\n",
    "            entry_time = datetime.datetime.now().time()\n",
    "            #time_in_range(start, end, current)\n",
    "            \n",
    "            \n",
    "            if time_in_range(start, end, entry_time):\n",
    "                with open('sample.json', 'r') as openfile:\n",
    "                    json_object = json.load(openfile) #load function convert json object to python dictionary \n",
    "                    \n",
    "                    f.writelines(f'\\n{name},{date},{json_object[str(name)]},{entry_time}')\n",
    "                        \n",
    "                #print(current)\n",
    "                #f.writelines(f'\\n{name},{date},{entry_time}')\n",
    "                \n",
    "        data=pd.read_csv('attendance.csv')\n",
    "        \n",
    "        #if (name,date) in zip(nameList,dateList):\n",
    "            \n",
    "        def time_out_range(start, end, leave_time):   \n",
    "            \"\"\"Returns whether current is in the range [start, end]\"\"\"\n",
    "            return start <= leave_time <= end\n",
    "        \n",
    "        start = datetime.time(18,30, 0)\n",
    "        end = datetime.time(23, 59, 0)\n",
    "        leave_time = datetime.datetime.now().time()\n",
    "                    \n",
    "            \n",
    "        if time_out_range(start, end, leave_time):\n",
    "            filter1 = data[\"Name\"]==name\n",
    "            filter2 = data[\"Date\"]==date\n",
    "            data['Leave-Time']= np.where((filter1 & filter2),leave_time,data['Leave-Time'])\n",
    "            data.to_csv('attendance.csv',index=False)\n",
    "        \n"
   ]
  },
  {
   "cell_type": "code",
   "execution_count": 6,
   "id": "0054b739",
   "metadata": {},
   "outputs": [
    {
     "name": "stdout",
     "output_type": "stream",
     "text": [
      "4\n"
     ]
    }
   ],
   "source": [
    "\n",
    "cap=cv2.VideoCapture(0)\n",
    "\n",
    "while True:\n",
    "    ret,frame=cap.read()\n",
    "    faces=cv2.resize(frame,(0,0),None,0.25,0.25)\n",
    "    faces=cv2.cvtColor(faces,cv2.COLOR_BGR2RGB)\n",
    "    \n",
    "    facesCurrentFrame=face_recognition.face_locations(faces)\n",
    "    encodesCurrentFrame=face_recognition.face_encodings(faces,facesCurrentFrame)\n",
    "    \n",
    "    for encodeFace,faceLoc in zip(encodesCurrentFrame,facesCurrentFrame):\n",
    "        matches=face_recognition.compare_faces(encodeListKnown,encodeFace)\n",
    "        faceDis=face_recognition.face_distance(encodeListKnown,encodeFace)\n",
    "        \n",
    "        matchIndex =np.argmin(faceDis)\n",
    "        \n",
    "        if matches[matchIndex]:\n",
    "            name=personName[matchIndex]\n",
    "            #print(name)\n",
    "            y1,x2,y2,x1=faceLoc\n",
    "            y1,x2,y2,x1=y1*4,x2*4,y2*4,x1*4\n",
    "            cv2.rectangle(frame,(x1,y1),(x2,y2),(0,255,0),2)\n",
    "            cv2.rectangle(frame,(x1,y2-35),(x2,y2),(0,255,0),cv2.FILLED)\n",
    "            cv2.putText(frame,name,(x1+6,y2-6),cv2.FONT_HERSHEY_COMPLEX,1,(0,0,255),2)\n",
    "            \n",
    "            time_now=datetime.datetime.now() \n",
    "            date=time_now.strftime('%d/%m/%Y')\n",
    "            attendance(name,date)\n",
    "            \n",
    "    cv2.imshow('Camera',frame)\n",
    "    # speak(f\"Hello {name}\")\n",
    "    \n",
    "    if cv2.waitKey(10)==13:\n",
    "       \n",
    "        break\n",
    "    \n",
    "\n",
    "print(matchIndex)        \n",
    "cap.release()\n",
    "cv2.destroyAllWindows()\n",
    "\n"
   ]
  }
 ],
 "metadata": {
  "kernelspec": {
   "display_name": "Python 3.8.8 ('base')",
   "language": "python",
   "name": "python3"
  },
  "language_info": {
   "codemirror_mode": {
    "name": "ipython",
    "version": 3
   },
   "file_extension": ".py",
   "mimetype": "text/x-python",
   "name": "python",
   "nbconvert_exporter": "python",
   "pygments_lexer": "ipython3",
   "version": "3.8.8"
  },
  "vscode": {
   "interpreter": {
    "hash": "ad2bdc8ecc057115af97d19610ffacc2b4e99fae6737bb82f5d7fb13d2f2c186"
   }
  }
 },
 "nbformat": 4,
 "nbformat_minor": 5
}
